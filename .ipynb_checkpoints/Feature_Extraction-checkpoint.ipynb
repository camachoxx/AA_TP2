{
 "cells": [
  {
   "cell_type": "code",
   "execution_count": 1,
   "metadata": {},
   "outputs": [],
   "source": [
    "import numpy as np\n",
    "import pandas as pd\n",
    "from tp2_aux import *\n",
    "from sklearn.decomposition import PCA\n",
    "from sklearn.manifold import TSNE\n",
    "\n",
    "from sklearn.manifold import Isomap\n",
    "\n",
    "PCA_feature_dir=\"Features/pca_feat.csv\"\n",
    "TSNE_feature_dir=\"Features/tsne_feat.csv\"\n",
    "ISOMAP_features_dir=\"Features/isomap_feat.csv\""
   ]
  },
  {
   "cell_type": "code",
   "execution_count": 2,
   "metadata": {},
   "outputs": [
    {
     "name": "stdout",
     "output_type": "stream",
     "text": [
      "[[0 0 0 ... 0 0 0]\n",
      " [0 0 0 ... 0 0 0]\n",
      " [0 0 0 ... 0 0 0]\n",
      " ...\n",
      " [0 0 0 ... 0 0 0]\n",
      " [0 0 0 ... 0 0 0]\n",
      " [0 0 0 ... 0 0 0]]\n"
     ]
    }
   ],
   "source": [
    "data=images_as_matrix()\n",
    "print(data)"
   ]
  },
  {
   "cell_type": "code",
   "execution_count": 3,
   "metadata": {},
   "outputs": [],
   "source": [
    "data_df=pd.DataFrame(data)\n",
    "data_df.iloc[5,:].hist();"
   ]
  },
  {
   "cell_type": "markdown",
   "metadata": {},
   "source": [
    "# Feature extraction"
   ]
  },
  {
   "cell_type": "markdown",
   "metadata": {},
   "source": [
    "# PCA"
   ]
  },
  {
   "cell_type": "code",
   "execution_count": 4,
   "metadata": {},
   "outputs": [
    {
     "name": "stdout",
     "output_type": "stream",
     "text": [
      "0.5883948415124793\n"
     ]
    }
   ],
   "source": [
    "pca = PCA(n_components=6)\n",
    "pca.fit(data)  #Fitting the data for the PCA\n",
    "\n",
    "#print(pca.singular_values_)\n",
    "print(pca.explained_variance_ratio_.sum())\n"
   ]
  },
  {
   "cell_type": "code",
   "execution_count": 5,
   "metadata": {},
   "outputs": [
    {
     "data": {
      "text/plain": [
       "(563, 6)"
      ]
     },
     "execution_count": 5,
     "metadata": {},
     "output_type": "execute_result"
    }
   ],
   "source": [
    "pca_data = pca.transform(data)\n",
    "np.shape(pca_data)"
   ]
  },
  {
   "cell_type": "markdown",
   "metadata": {},
   "source": [
    "### Saving features to a file"
   ]
  },
  {
   "cell_type": "code",
   "execution_count": 6,
   "metadata": {},
   "outputs": [],
   "source": [
    "df_pca=pd.DataFrame(pca_data)\n",
    "df_pca.to_csv(PCA_feature_dir,index=False)"
   ]
  },
  {
   "cell_type": "markdown",
   "metadata": {},
   "source": [
    "# T-SNE"
   ]
  },
  {
   "cell_type": "code",
   "execution_count": 7,
   "metadata": {},
   "outputs": [
    {
     "data": {
      "text/plain": [
       "(563, 6)"
      ]
     },
     "execution_count": 7,
     "metadata": {},
     "output_type": "execute_result"
    }
   ],
   "source": [
    "t_SNE = TSNE(n_components=6,method=\"exact\").fit_transform(data)\n",
    "np.shape(t_SNE)\n"
   ]
  },
  {
   "cell_type": "markdown",
   "metadata": {},
   "source": [
    "### Saving features to a file"
   ]
  },
  {
   "cell_type": "code",
   "execution_count": 8,
   "metadata": {},
   "outputs": [],
   "source": [
    "df_tsne=pd.DataFrame(t_SNE)   \n",
    "df_tsne.to_csv(TSNE_feature_dir,index=False)  #With 6 features"
   ]
  },
  {
   "cell_type": "markdown",
   "metadata": {},
   "source": [
    "# Isomap"
   ]
  },
  {
   "cell_type": "code",
   "execution_count": 9,
   "metadata": {},
   "outputs": [
    {
     "data": {
      "text/plain": [
       "(563, 6)"
      ]
     },
     "execution_count": 9,
     "metadata": {},
     "output_type": "execute_result"
    }
   ],
   "source": [
    "embedding = Isomap(n_components=6)\n",
    "data_isomap = embedding.fit_transform(data)\n",
    "data_isomap.shape"
   ]
  },
  {
   "cell_type": "code",
   "execution_count": 10,
   "metadata": {},
   "outputs": [],
   "source": [
    "df_isomap=pd.DataFrame(data_isomap)   \n",
    "df_isomap.to_csv(ISOMAP_features_dir,index=False)  #With 6 features"
   ]
  },
  {
   "cell_type": "code",
   "execution_count": 11,
   "metadata": {},
   "outputs": [],
   "source": [
    "df_pca.columns\n",
    "df=pd.concat([df_pca,df_tsne,df_isomap],axis=1)\n",
    "df.columns=np.arange(0,len(df.columns))\n",
    "from sklearn.preprocessing import StandardScaler\n",
    "scaler = StandardScaler()\n",
    "scaler.fit(df)\n",
    "stand_df=pd.DataFrame(scaler.transform(df))\n",
    "stand_df.to_csv(\"Features/18_feat.csv\",index=False)"
   ]
  },
  {
   "cell_type": "code",
   "execution_count": 12,
   "metadata": {},
   "outputs": [
    {
     "data": {
      "text/html": [
       "<div>\n",
       "<style scoped>\n",
       "    .dataframe tbody tr th:only-of-type {\n",
       "        vertical-align: middle;\n",
       "    }\n",
       "\n",
       "    .dataframe tbody tr th {\n",
       "        vertical-align: top;\n",
       "    }\n",
       "\n",
       "    .dataframe thead th {\n",
       "        text-align: right;\n",
       "    }\n",
       "</style>\n",
       "<table border=\"1\" class=\"dataframe\">\n",
       "  <thead>\n",
       "    <tr style=\"text-align: right;\">\n",
       "      <th></th>\n",
       "      <th>0</th>\n",
       "      <th>1</th>\n",
       "      <th>2</th>\n",
       "      <th>3</th>\n",
       "      <th>4</th>\n",
       "      <th>5</th>\n",
       "      <th>6</th>\n",
       "      <th>7</th>\n",
       "      <th>8</th>\n",
       "      <th>9</th>\n",
       "      <th>10</th>\n",
       "      <th>11</th>\n",
       "      <th>12</th>\n",
       "      <th>13</th>\n",
       "      <th>14</th>\n",
       "      <th>15</th>\n",
       "      <th>16</th>\n",
       "      <th>17</th>\n",
       "    </tr>\n",
       "  </thead>\n",
       "  <tbody>\n",
       "    <tr>\n",
       "      <td>0</td>\n",
       "      <td>-1.559896</td>\n",
       "      <td>0.409851</td>\n",
       "      <td>0.241041</td>\n",
       "      <td>0.001002</td>\n",
       "      <td>-0.187459</td>\n",
       "      <td>0.115386</td>\n",
       "      <td>-0.046990</td>\n",
       "      <td>0.179574</td>\n",
       "      <td>-16.046017</td>\n",
       "      <td>-1.091255</td>\n",
       "      <td>0.450222</td>\n",
       "      <td>4.131803</td>\n",
       "      <td>-1.301603</td>\n",
       "      <td>0.556241</td>\n",
       "      <td>0.576700</td>\n",
       "      <td>-0.218884</td>\n",
       "      <td>0.012953</td>\n",
       "      <td>1.356094</td>\n",
       "    </tr>\n",
       "    <tr>\n",
       "      <td>1</td>\n",
       "      <td>-1.091979</td>\n",
       "      <td>-0.413773</td>\n",
       "      <td>0.502309</td>\n",
       "      <td>0.331394</td>\n",
       "      <td>1.165290</td>\n",
       "      <td>0.920334</td>\n",
       "      <td>-0.332307</td>\n",
       "      <td>2.005451</td>\n",
       "      <td>-0.135757</td>\n",
       "      <td>0.800398</td>\n",
       "      <td>-0.496265</td>\n",
       "      <td>-0.306147</td>\n",
       "      <td>-1.157694</td>\n",
       "      <td>-0.330854</td>\n",
       "      <td>-0.001787</td>\n",
       "      <td>0.425239</td>\n",
       "      <td>0.557592</td>\n",
       "      <td>0.842823</td>\n",
       "    </tr>\n",
       "    <tr>\n",
       "      <td>2</td>\n",
       "      <td>-1.891114</td>\n",
       "      <td>-0.140439</td>\n",
       "      <td>0.337118</td>\n",
       "      <td>0.042957</td>\n",
       "      <td>0.026543</td>\n",
       "      <td>-0.958797</td>\n",
       "      <td>-0.406260</td>\n",
       "      <td>0.396285</td>\n",
       "      <td>-0.468747</td>\n",
       "      <td>1.302132</td>\n",
       "      <td>-0.352623</td>\n",
       "      <td>-1.182071</td>\n",
       "      <td>-1.816678</td>\n",
       "      <td>0.048479</td>\n",
       "      <td>0.746181</td>\n",
       "      <td>-0.117663</td>\n",
       "      <td>-0.347074</td>\n",
       "      <td>1.148108</td>\n",
       "    </tr>\n",
       "    <tr>\n",
       "      <td>3</td>\n",
       "      <td>-1.098008</td>\n",
       "      <td>-0.411514</td>\n",
       "      <td>-0.385895</td>\n",
       "      <td>-0.413756</td>\n",
       "      <td>-0.283129</td>\n",
       "      <td>-0.048777</td>\n",
       "      <td>-0.517242</td>\n",
       "      <td>-0.287146</td>\n",
       "      <td>-0.047558</td>\n",
       "      <td>-0.351189</td>\n",
       "      <td>-0.953673</td>\n",
       "      <td>-0.379331</td>\n",
       "      <td>-0.847357</td>\n",
       "      <td>-0.361026</td>\n",
       "      <td>1.030350</td>\n",
       "      <td>0.427081</td>\n",
       "      <td>-0.516452</td>\n",
       "      <td>0.078780</td>\n",
       "    </tr>\n",
       "    <tr>\n",
       "      <td>4</td>\n",
       "      <td>-1.706336</td>\n",
       "      <td>-0.704539</td>\n",
       "      <td>-0.103978</td>\n",
       "      <td>0.262728</td>\n",
       "      <td>0.206327</td>\n",
       "      <td>0.286878</td>\n",
       "      <td>-0.244355</td>\n",
       "      <td>0.372937</td>\n",
       "      <td>-0.191213</td>\n",
       "      <td>0.851725</td>\n",
       "      <td>-0.926571</td>\n",
       "      <td>-0.039155</td>\n",
       "      <td>-1.443298</td>\n",
       "      <td>-0.474006</td>\n",
       "      <td>0.298786</td>\n",
       "      <td>-0.005844</td>\n",
       "      <td>0.522534</td>\n",
       "      <td>1.030714</td>\n",
       "    </tr>\n",
       "    <tr>\n",
       "      <td>...</td>\n",
       "      <td>...</td>\n",
       "      <td>...</td>\n",
       "      <td>...</td>\n",
       "      <td>...</td>\n",
       "      <td>...</td>\n",
       "      <td>...</td>\n",
       "      <td>...</td>\n",
       "      <td>...</td>\n",
       "      <td>...</td>\n",
       "      <td>...</td>\n",
       "      <td>...</td>\n",
       "      <td>...</td>\n",
       "      <td>...</td>\n",
       "      <td>...</td>\n",
       "      <td>...</td>\n",
       "      <td>...</td>\n",
       "      <td>...</td>\n",
       "      <td>...</td>\n",
       "    </tr>\n",
       "    <tr>\n",
       "      <td>558</td>\n",
       "      <td>0.763250</td>\n",
       "      <td>-1.106307</td>\n",
       "      <td>2.129527</td>\n",
       "      <td>0.102888</td>\n",
       "      <td>0.468838</td>\n",
       "      <td>-0.494128</td>\n",
       "      <td>0.344354</td>\n",
       "      <td>-0.317797</td>\n",
       "      <td>-0.304486</td>\n",
       "      <td>-0.865017</td>\n",
       "      <td>0.797914</td>\n",
       "      <td>1.102743</td>\n",
       "      <td>1.001457</td>\n",
       "      <td>0.407000</td>\n",
       "      <td>1.910801</td>\n",
       "      <td>0.226307</td>\n",
       "      <td>0.818548</td>\n",
       "      <td>-0.870239</td>\n",
       "    </tr>\n",
       "    <tr>\n",
       "      <td>559</td>\n",
       "      <td>-1.439961</td>\n",
       "      <td>0.703030</td>\n",
       "      <td>0.993426</td>\n",
       "      <td>0.822937</td>\n",
       "      <td>-0.930051</td>\n",
       "      <td>3.337929</td>\n",
       "      <td>-0.661596</td>\n",
       "      <td>-0.452449</td>\n",
       "      <td>-0.683022</td>\n",
       "      <td>-0.525432</td>\n",
       "      <td>-0.506534</td>\n",
       "      <td>0.419618</td>\n",
       "      <td>-1.644708</td>\n",
       "      <td>0.651041</td>\n",
       "      <td>0.296426</td>\n",
       "      <td>-0.352501</td>\n",
       "      <td>0.316008</td>\n",
       "      <td>0.609599</td>\n",
       "    </tr>\n",
       "    <tr>\n",
       "      <td>560</td>\n",
       "      <td>-1.600709</td>\n",
       "      <td>-0.540742</td>\n",
       "      <td>0.843239</td>\n",
       "      <td>0.626511</td>\n",
       "      <td>0.102256</td>\n",
       "      <td>0.662468</td>\n",
       "      <td>0.151771</td>\n",
       "      <td>0.409728</td>\n",
       "      <td>-0.642098</td>\n",
       "      <td>1.549894</td>\n",
       "      <td>-1.023916</td>\n",
       "      <td>0.202998</td>\n",
       "      <td>-1.678440</td>\n",
       "      <td>0.020790</td>\n",
       "      <td>0.223419</td>\n",
       "      <td>0.306023</td>\n",
       "      <td>0.360273</td>\n",
       "      <td>1.532186</td>\n",
       "    </tr>\n",
       "    <tr>\n",
       "      <td>561</td>\n",
       "      <td>0.199144</td>\n",
       "      <td>-0.905646</td>\n",
       "      <td>1.697900</td>\n",
       "      <td>0.296623</td>\n",
       "      <td>-1.678511</td>\n",
       "      <td>-2.148101</td>\n",
       "      <td>-0.112111</td>\n",
       "      <td>-1.571106</td>\n",
       "      <td>0.493952</td>\n",
       "      <td>-0.150569</td>\n",
       "      <td>0.806492</td>\n",
       "      <td>-0.264024</td>\n",
       "      <td>1.236618</td>\n",
       "      <td>-0.118960</td>\n",
       "      <td>1.436553</td>\n",
       "      <td>-0.555722</td>\n",
       "      <td>-0.463581</td>\n",
       "      <td>-0.324735</td>\n",
       "    </tr>\n",
       "    <tr>\n",
       "      <td>562</td>\n",
       "      <td>-0.319528</td>\n",
       "      <td>1.458137</td>\n",
       "      <td>1.114595</td>\n",
       "      <td>0.755163</td>\n",
       "      <td>1.285498</td>\n",
       "      <td>-0.789316</td>\n",
       "      <td>0.761341</td>\n",
       "      <td>-0.207543</td>\n",
       "      <td>-0.389454</td>\n",
       "      <td>1.366799</td>\n",
       "      <td>0.240322</td>\n",
       "      <td>-0.593582</td>\n",
       "      <td>-0.329550</td>\n",
       "      <td>1.755735</td>\n",
       "      <td>-0.301462</td>\n",
       "      <td>1.079848</td>\n",
       "      <td>0.666509</td>\n",
       "      <td>0.657316</td>\n",
       "    </tr>\n",
       "  </tbody>\n",
       "</table>\n",
       "<p>563 rows × 18 columns</p>\n",
       "</div>"
      ],
      "text/plain": [
       "            0         1         2         3         4         5         6  \\\n",
       "0   -1.559896  0.409851  0.241041  0.001002 -0.187459  0.115386 -0.046990   \n",
       "1   -1.091979 -0.413773  0.502309  0.331394  1.165290  0.920334 -0.332307   \n",
       "2   -1.891114 -0.140439  0.337118  0.042957  0.026543 -0.958797 -0.406260   \n",
       "3   -1.098008 -0.411514 -0.385895 -0.413756 -0.283129 -0.048777 -0.517242   \n",
       "4   -1.706336 -0.704539 -0.103978  0.262728  0.206327  0.286878 -0.244355   \n",
       "..        ...       ...       ...       ...       ...       ...       ...   \n",
       "558  0.763250 -1.106307  2.129527  0.102888  0.468838 -0.494128  0.344354   \n",
       "559 -1.439961  0.703030  0.993426  0.822937 -0.930051  3.337929 -0.661596   \n",
       "560 -1.600709 -0.540742  0.843239  0.626511  0.102256  0.662468  0.151771   \n",
       "561  0.199144 -0.905646  1.697900  0.296623 -1.678511 -2.148101 -0.112111   \n",
       "562 -0.319528  1.458137  1.114595  0.755163  1.285498 -0.789316  0.761341   \n",
       "\n",
       "            7          8         9        10        11        12        13  \\\n",
       "0    0.179574 -16.046017 -1.091255  0.450222  4.131803 -1.301603  0.556241   \n",
       "1    2.005451  -0.135757  0.800398 -0.496265 -0.306147 -1.157694 -0.330854   \n",
       "2    0.396285  -0.468747  1.302132 -0.352623 -1.182071 -1.816678  0.048479   \n",
       "3   -0.287146  -0.047558 -0.351189 -0.953673 -0.379331 -0.847357 -0.361026   \n",
       "4    0.372937  -0.191213  0.851725 -0.926571 -0.039155 -1.443298 -0.474006   \n",
       "..        ...        ...       ...       ...       ...       ...       ...   \n",
       "558 -0.317797  -0.304486 -0.865017  0.797914  1.102743  1.001457  0.407000   \n",
       "559 -0.452449  -0.683022 -0.525432 -0.506534  0.419618 -1.644708  0.651041   \n",
       "560  0.409728  -0.642098  1.549894 -1.023916  0.202998 -1.678440  0.020790   \n",
       "561 -1.571106   0.493952 -0.150569  0.806492 -0.264024  1.236618 -0.118960   \n",
       "562 -0.207543  -0.389454  1.366799  0.240322 -0.593582 -0.329550  1.755735   \n",
       "\n",
       "           14        15        16        17  \n",
       "0    0.576700 -0.218884  0.012953  1.356094  \n",
       "1   -0.001787  0.425239  0.557592  0.842823  \n",
       "2    0.746181 -0.117663 -0.347074  1.148108  \n",
       "3    1.030350  0.427081 -0.516452  0.078780  \n",
       "4    0.298786 -0.005844  0.522534  1.030714  \n",
       "..        ...       ...       ...       ...  \n",
       "558  1.910801  0.226307  0.818548 -0.870239  \n",
       "559  0.296426 -0.352501  0.316008  0.609599  \n",
       "560  0.223419  0.306023  0.360273  1.532186  \n",
       "561  1.436553 -0.555722 -0.463581 -0.324735  \n",
       "562 -0.301462  1.079848  0.666509  0.657316  \n",
       "\n",
       "[563 rows x 18 columns]"
      ]
     },
     "execution_count": 12,
     "metadata": {},
     "output_type": "execute_result"
    }
   ],
   "source": [
    "stand_df"
   ]
  }
 ],
 "metadata": {
  "kernelspec": {
   "display_name": "Python 3",
   "language": "python",
   "name": "python3"
  },
  "language_info": {
   "codemirror_mode": {
    "name": "ipython",
    "version": 3
   },
   "file_extension": ".py",
   "mimetype": "text/x-python",
   "name": "python",
   "nbconvert_exporter": "python",
   "pygments_lexer": "ipython3",
   "version": "3.7.4"
  }
 },
 "nbformat": 4,
 "nbformat_minor": 4
}
